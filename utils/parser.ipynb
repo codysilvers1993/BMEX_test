{
 "cells": [
  {
   "cell_type": "code",
   "execution_count": 25,
   "metadata": {},
   "outputs": [],
   "source": [
    "import pandas as pd\n",
    "import numpy as np\n",
    "\n",
    "#Load in raw excel data\n",
    "EXP = pd.read_excel(r'MasterNuclei.xlsx', sheet_name = 'Exp') #experimental\n",
    "\n",
    "\n",
    "ME2 = pd.read_excel (r'MasterNuclei.xlsx', sheet_name = 'DD-ME2_even-even_nuclei')\n",
    "MEdelta = pd.read_excel (r'MasterNuclei.xlsx', sheet_name = 'DD-MEdelta_even-even_nuclei')\n",
    "PC1 = pd.read_excel (r'MasterNuclei.xlsx', sheet_name = 'DD-PC1_even-even_nuclei')\n",
    "NL3S = pd.read_excel (r'MasterNuclei.xlsx', sheet_name = 'NL3S_even-even_nuclei')\n",
    "\n",
    "\n",
    "SKMS = pd.read_excel (r'MasterNuclei.xlsx', sheet_name = 'SKMS_all_nuclei')\n",
    "SKP = pd.read_excel (r'MasterNuclei.xlsx', sheet_name = 'SKP_all_nuclei')\n",
    "SLY4 = pd.read_excel (r'MasterNuclei.xlsx', sheet_name = 'SLY4_all_nuclei')\n",
    "SV = pd.read_excel (r'MasterNuclei.xlsx', sheet_name = 'SV-MIN_all_nuclei')\n",
    "UNEDF0 = pd.read_excel (r'MasterNuclei.xlsx', sheet_name = 'UNEDF0_all_nuclei')\n",
    "UNEDF1 = pd.read_excel (r'MasterNuclei.xlsx', sheet_name = 'UNEDF1_all_nuclei')\n",
    "\n",
    "SKMS_even = pd.read_excel (r'All_Even-Even_Nuclei.xlsx', sheet_name = 'SKMS_even-even_nuclei')\n",
    "SKP_even = pd.read_excel (r'All_Even-Even_Nuclei.xlsx', sheet_name = 'SKP_even-even_nuclei')\n",
    "SLY4_even = pd.read_excel (r'All_Even-Even_Nuclei.xlsx', sheet_name = 'SLY4_even-even_nuclei')\n",
    "SV_even = pd.read_excel (r'All_Even-Even_Nuclei.xlsx', sheet_name = 'SV-MIN_even-even_nuclei')\n",
    "UNEDF0_even = pd.read_excel (r'All_Even-Even_Nuclei.xlsx', sheet_name = 'UNEDF0_even-even_nuclei')\n",
    "UNEDF1_even = pd.read_excel (r'All_Even-Even_Nuclei.xlsx', sheet_name = 'UNEDF1_even-even_nuclei')\n",
    "\n",
    "\n",
    "#raw = tuple([EXP, ME2, MEdelta, PC1, NL3S, SKMS, SKP, SLY4, SV, UNEDF0, UNEDF1])"
   ]
  },
  {
   "cell_type": "code",
   "execution_count": 27,
   "metadata": {},
   "outputs": [],
   "source": [
    "#Collect all raw model data into each individual df\n",
    "\n",
    "covar = [ME2, MEdelta, PC1, NL3S]\n",
    "\n",
    "skm = [SKMS, SKP, SLY4, SV, UNEDF0, UNEDF1]\n",
    "skm_even = [SKMS_even, SKP_even, SLY4_even, SV_even, UNEDF0_even, UNEDF1_even]\n",
    "skm_merged = []\n",
    "for i in range(len(skm)):\n",
    "    skm_merged.append(skm[i].combine_first(skm_even[i]))\n",
    "\n",
    "raw = np.array([EXP, covar, skm_merged], dtype=object)\n",
    "raw_flat = raw.flatten()"
   ]
  },
  {
   "cell_type": "code",
   "execution_count": null,
   "metadata": {},
   "outputs": [],
   "source": [
    "qnames = ['One Neutron Separation Energy', 'One Proton Separation Energy', 'Two Neutron Separation Energy', \n",
    "'Two Proton Separation Energy', 'Alpha Separation Energy', 'Two Proton Shell Gap', 'Two Neutron Shell Gap', \n",
    "'Double Mass Difference', 'Neutron 3-Point Odd-Even Binding Energy Difference', 'Proton 3-Point Odd-Even Binding Energy Difference', \n",
    "'Single-Neutron Energy Splitting', 'Single-Proton Energy Splitting', 'Wigner Energy Coeffiency']\n",
    "qfuncs = []\n",
    "\n",
    "processed_flat = []\n",
    "\n",
    "for df in raw_flat:\n",
    "    for q in range(len(qfuncs)):\n",
    "        col = []\n",
    "        for index in range(len(df.index)):\n",
    "            col.append(qfuncs[q](...inputs...))\n",
    "        df[qnames[q]] = col\n",
    "    processed_flat.append(df)\n"
   ]
  },
  {
   "cell_type": "code",
   "execution_count": null,
   "metadata": {},
   "outputs": [],
   "source": [
    "EXP_final, ME2_final, MEdelta_final, PC1_final, NL3S_final, SKMS_final, SKP_final, SLY4_final, SV_final, UNEDF0_final, UNEDF1_final = processed_flat"
   ]
  },
  {
   "cell_type": "code",
   "execution_count": 17,
   "metadata": {},
   "outputs": [],
   "source": [
    "filtered = []\n",
    "for d in raw:\n",
    "    df = d[['Z', 'N', 'Binding_Energy_(MeV)']]\n",
    "    filtered.append(df)"
   ]
  },
  {
   "cell_type": "code",
   "execution_count": 18,
   "metadata": {},
   "outputs": [],
   "source": [
    "names = ['EXP', 'ME2', 'MEdelta', 'PC1', 'NL3S', 'SKMS', 'SKP', 'SLY4', 'SV', 'UNEDF0', 'UNEDF1']\n",
    "master_df = pd.DataFrame(\n",
    "    columns=['Model', 'Z', 'N', 'BE', 'Binding_Energy_(MeV)', 'Fermi_Energy_P_(MeV)', \n",
    "    'Fermi_Energy_N_(MeV)', 'Quad_Def_Beta2_P',\t'Quad_Def_Beta2_N',\t'Quad_Def_Beta2_total',\t\n",
    "    'Quad_Moment_Q2_P_(fm^2)', 'Quad_Moment_Q2_N_(fm^2)', 'Quad_Moment_Q2_total_(fm^2)', \n",
    "    'Pairing_gap_P_(MeV)', 'Pairing_gap_N_(MeV)', 'RMS_radius_P_(fm)', 'RMS_radius_N_(fm)', \n",
    "    'RMS_radius_total_(fm)', 'Neutron_skin_(fm)', 'Charge_Radius_(fm)', 'S_p_(MeV)', \n",
    "    'S_{2p}_(MeV)', 'S_n_(MeV)', 'S_{2n}_(MeV)', 'Q_{alpha}_(MeV)',\n",
    "])\n",
    "\n",
    "for m in range(len(filtered)):\n",
    "    M = filtered[m]\n",
    "    for rowi in range(len(filtered[m].index)):\n",
    "        master_df.loc[len(master_df.index)] = [names[m], M['Z'][rowi], M['N'][rowi], M['Binding_Energy_(MeV)'][rowi]] \n"
   ]
  },
  {
   "cell_type": "code",
   "execution_count": 19,
   "metadata": {},
   "outputs": [
    {
     "name": "stdout",
     "output_type": "stream",
     "text": [
      "  Model  Z  N        BE\n",
      "0   EXP  0  1  0.000000\n",
      "1   EXP  1  0  0.000000\n",
      "2   EXP  1  1 -2.224566\n",
      "3   EXP  1  2 -8.481796\n",
      "4   EXP  2  1 -7.718041 \n",
      "         Model    Z    N           BE\n",
      "57686  UNEDF1  120  289 -2408.792800\n",
      "57687  UNEDF1  120  290 -2409.407277\n",
      "57688  UNEDF1  120  292 -2409.876417\n",
      "57689  UNEDF1  120  294 -2410.154072\n",
      "57690  UNEDF1  120  296 -2410.250510\n"
     ]
    }
   ],
   "source": [
    "print(master_df.head(),'\\n', master_df.tail())"
   ]
  },
  {
   "cell_type": "code",
   "execution_count": null,
   "metadata": {},
   "outputs": [],
   "source": [
    "master_df['One Neutron Seperation Energy'] = master_df['BE']"
   ]
  }
 ],
 "metadata": {
  "kernelspec": {
   "display_name": "Python 3.9.13 ('bmex')",
   "language": "python",
   "name": "python3"
  },
  "language_info": {
   "codemirror_mode": {
    "name": "ipython",
    "version": 3
   },
   "file_extension": ".py",
   "mimetype": "text/x-python",
   "name": "python",
   "nbconvert_exporter": "python",
   "pygments_lexer": "ipython3",
   "version": "3.9.13"
  },
  "orig_nbformat": 4,
  "vscode": {
   "interpreter": {
    "hash": "f415175c7d41c81aeb937c4ced3f3c0e9dcf748c9af9daa765178d6c56bbec2b"
   }
  }
 },
 "nbformat": 4,
 "nbformat_minor": 2
}
